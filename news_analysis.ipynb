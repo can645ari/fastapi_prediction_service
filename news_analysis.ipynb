{
 "cells": [
  {
   "cell_type": "code",
   "execution_count": 4,
   "metadata": {},
   "outputs": [
    {
     "name": "stdout",
     "output_type": "stream",
     "text": [
      "                                     text   category\n",
      "0               Galatasaray şampiyon oldu       spor\n",
      "1      Türkiye'deki enflasyon oranı arttı    ekonomi\n",
      "2  Hükümet yeni eğitim reformunu açıkladı   politika\n",
      "3      Apple yeni iPhone modelini tanıttı  teknoloji\n",
      "4  Futbol dünyasında dev transfer bombası       spor\n"
     ]
    }
   ],
   "source": [
    "import pandas as pd\n",
    "\n",
    "data = pd.read_csv('data/news_data.csv')\n",
    "print(data.head())"
   ]
  },
  {
   "cell_type": "code",
   "execution_count": 5,
   "metadata": {},
   "outputs": [
    {
     "name": "stdout",
     "output_type": "stream",
     "text": [
      "Naive Bayes Modelinin doğruluğu: 77.78%\n",
      "Logistic Regression Modelinin doğruluğu: 83.33%\n",
      "Optimizasyonlu Naive Bayes Modelinin doğruluğu: 77.78%\n",
      "En iyi model: Logistic Regression\n"
     ]
    }
   ],
   "source": [
    "from sklearn.feature_extraction.text import TfidfVectorizer\n",
    "from sklearn.model_selection import train_test_split\n",
    "from sklearn.naive_bayes import MultinomialNB\n",
    "from sklearn.linear_model import LogisticRegression\n",
    "from sklearn.metrics import accuracy_score\n",
    "from sklearn.model_selection import GridSearchCV\n",
    "\n",
    "# Metinleri ve etiketleri ayıralım\n",
    "X = data['text']\n",
    "y = data['category']\n",
    "\n",
    "# Veriyi eğitim ve test olarak bölelim\n",
    "X_train, X_test, y_train, y_test = train_test_split(X, y, test_size=0.2, random_state=42)\n",
    "\n",
    "# TF-IDF Vectorizer ile metinleri sayısal verilere dönüştürelim\n",
    "vectorizer = TfidfVectorizer(stop_words='english', max_features=5000)  # max_features ile özellik sayısını sınırlayalım\n",
    "X_train_vec = vectorizer.fit_transform(X_train)\n",
    "X_test_vec = vectorizer.transform(X_test)\n",
    "\n",
    "# Farklı modelleri deneyelim\n",
    "\n",
    "# 1. Naive Bayes\n",
    "model_nb = MultinomialNB()\n",
    "model_nb.fit(X_train_vec, y_train)\n",
    "y_pred_nb = model_nb.predict(X_test_vec)\n",
    "accuracy_nb = accuracy_score(y_test, y_pred_nb)\n",
    "\n",
    "# 2. Logistic Regression\n",
    "model_lr = LogisticRegression(max_iter=1000)\n",
    "model_lr.fit(X_train_vec, y_train)\n",
    "y_pred_lr = model_lr.predict(X_test_vec)\n",
    "accuracy_lr = accuracy_score(y_test, y_pred_lr)\n",
    "\n",
    "# 3. Grid Search ile Naive Bayes parametre optimizasyonu\n",
    "param_grid = {'alpha': [0.1, 0.5, 1, 2, 5]}  # Naive Bayes için parametre ayarlaması\n",
    "grid_search = GridSearchCV(MultinomialNB(), param_grid, cv=5)\n",
    "grid_search.fit(X_train_vec, y_train)\n",
    "best_nb_model = grid_search.best_estimator_\n",
    "y_pred_best_nb = best_nb_model.predict(X_test_vec)\n",
    "accuracy_best_nb = accuracy_score(y_test, y_pred_best_nb)\n",
    "\n",
    "# Sonuçları yazdıralım\n",
    "print(f\"Naive Bayes Modelinin doğruluğu: {accuracy_nb * 100:.2f}%\")\n",
    "print(f\"Logistic Regression Modelinin doğruluğu: {accuracy_lr * 100:.2f}%\")\n",
    "print(f\"Optimizasyonlu Naive Bayes Modelinin doğruluğu: {accuracy_best_nb * 100:.2f}%\")\n",
    "\n",
    "# En iyi modeli seçelim\n",
    "best_accuracy = max(accuracy_nb, accuracy_lr, accuracy_best_nb)\n",
    "if best_accuracy == accuracy_nb:\n",
    "    print(\"En iyi model: Naive Bayes\")\n",
    "elif best_accuracy == accuracy_lr:\n",
    "    print(\"En iyi model: Logistic Regression\")\n",
    "else:\n",
    "    print(\"En iyi model: Optimizasyonlu Naive Bayes\")\n"
   ]
  },
  {
   "cell_type": "code",
   "execution_count": 6,
   "metadata": {},
   "outputs": [
    {
     "name": "stdout",
     "output_type": "stream",
     "text": [
      "En iyi model: Logistic Regression\n",
      "Model ve TF-IDF Vectorizer başarıyla kaydedildi.\n"
     ]
    }
   ],
   "source": [
    "import joblib\n",
    "from sklearn.linear_model import LogisticRegression\n",
    "from sklearn.feature_extraction.text import TfidfVectorizer\n",
    "\n",
    "# En iyi modeli seçelim\n",
    "best_accuracy = max(accuracy_nb, accuracy_lr, accuracy_best_nb)\n",
    "\n",
    "if best_accuracy == accuracy_nb:\n",
    "    best_model = model_nb\n",
    "    best_model_name = \"Naive Bayes\"\n",
    "elif best_accuracy == accuracy_lr:\n",
    "    best_model = model_lr\n",
    "    best_model_name = \"Logistic Regression\"\n",
    "else:\n",
    "    best_model = best_nb_model\n",
    "    best_model_name = \"Optimizasyonlu Naive Bayes\"\n",
    "\n",
    "# En iyi modeli 'model' klasörüne kaydedin\n",
    "joblib.dump(best_model, 'model/news_classifier_model.pkl')\n",
    "\n",
    "# TF-IDF Vectorizer'ı 'model' klasörüne kaydedin\n",
    "joblib.dump(vectorizer, 'model/tfidf_vectorizer.pkl')\n",
    "\n",
    "# En iyi modeli yazdıralım\n",
    "print(f\"En iyi model: {best_model_name}\")\n",
    "\n",
    "print(\"Model ve TF-IDF Vectorizer başarıyla kaydedildi.\")\n"
   ]
  }
 ],
 "metadata": {
  "kernelspec": {
   "display_name": "venv",
   "language": "python",
   "name": "python3"
  },
  "language_info": {
   "codemirror_mode": {
    "name": "ipython",
    "version": 3
   },
   "file_extension": ".py",
   "mimetype": "text/x-python",
   "name": "python",
   "nbconvert_exporter": "python",
   "pygments_lexer": "ipython3",
   "version": "3.12.3"
  }
 },
 "nbformat": 4,
 "nbformat_minor": 2
}
